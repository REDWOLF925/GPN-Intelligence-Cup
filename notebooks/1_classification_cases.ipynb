{
 "cells": [
  {
   "cell_type": "markdown",
   "metadata": {},
   "source": [
    "## **Обучени модели классификации заказов**"
   ]
  },
  {
   "cell_type": "code",
   "execution_count": 1,
   "metadata": {},
   "outputs": [],
   "source": [
    "import pandas as pd\n",
    "from sklearn.model_selection import train_test_split\n",
    "from sklearn.feature_extraction.text import TfidfVectorizer\n",
    "from sklearn.linear_model import LogisticRegression\n",
    "from sklearn.metrics import accuracy_score, classification_report\n",
    "from sklearn.pipeline import Pipeline\n",
    "import joblib"
   ]
  },
  {
   "cell_type": "markdown",
   "metadata": {},
   "source": [
    "Тестирование результатов классификации заказов будет проводится на ещё не выполненных заказах, для симуляции некого инференса"
   ]
  },
  {
   "cell_type": "code",
   "execution_count": 2,
   "metadata": {},
   "outputs": [],
   "source": [
    "df = pd.read_csv('../data/cases_labeled.csv', sep=';')\n",
    "# Разделим данные на обучающую и тестовую выборки\n",
    "X_train = df.loc[df['Выполнено'] == 'да']['Описание']\n",
    "X_test = df.loc[df['Выполнено'] == 'нет']['Описание']\n",
    "y_train = df.loc[df['Выполнено'] == 'да']['Тип поручения']\n",
    "y_test = df.loc[df['Выполнено'] == 'нет']['Тип поручения']"
   ]
  },
  {
   "cell_type": "code",
   "execution_count": 3,
   "metadata": {},
   "outputs": [],
   "source": [
    "pipeline = Pipeline([\n",
    "    ('tfidf', TfidfVectorizer(max_features=5000, stop_words=['russian'])),  # Векторизация текста\n",
    "    ('clf', LogisticRegression(max_iter=1000, random_state=42))  # Модель классификации\n",
    "])"
   ]
  },
  {
   "cell_type": "code",
   "execution_count": 4,
   "metadata": {},
   "outputs": [
    {
     "name": "stdout",
     "output_type": "stream",
     "text": [
      "Accuracy: 1.0\n",
      "Classification Report:\n",
      "                    precision    recall  f1-score   support\n",
      "\n",
      "          Чудовище       1.00      1.00      1.00         3\n",
      "          Спасение       1.00      1.00      1.00         5\n",
      "             Поиск       1.00      1.00      1.00         8\n",
      "Монстры/разбойники       1.00      1.00      1.00         3\n",
      "\n",
      "          accuracy                           1.00        19\n",
      "         macro avg       1.00      1.00      1.00        19\n",
      "      weighted avg       1.00      1.00      1.00        19\n",
      "\n"
     ]
    }
   ],
   "source": [
    "# Обучаем модель\n",
    "pipeline.fit(X_train, y_train)\n",
    "\n",
    "# Прогнозируем на тестовых данных\n",
    "y_pred = pipeline.predict(X_test)\n",
    "\n",
    "# Оценка качества модели\n",
    "print(\"Accuracy:\", accuracy_score(y_test, y_pred))\n",
    "print(\"Classification Report:\")\n",
    "print(classification_report(y_test, y_pred, target_names=['Чудовище', 'Спасение', 'Поиск', 'Монстры/разбойники']))"
   ]
  },
  {
   "cell_type": "markdown",
   "metadata": {},
   "source": [
    "Для оценки качества модели на \"новых\" заказах, мной были сгенирированы новые текста (немного отличающиеся от исходных) с метками"
   ]
  },
  {
   "cell_type": "code",
   "execution_count": 5,
   "metadata": {},
   "outputs": [
    {
     "name": "stdout",
     "output_type": "stream",
     "text": [
      "Accuracy: 0.8947368421052632\n",
      "Classification Report:\n",
      "                    precision    recall  f1-score   support\n",
      "\n",
      "          Чудовище       1.00      1.00      1.00         5\n",
      "          Спасение       1.00      0.50      0.67         4\n",
      "             Поиск       1.00      1.00      1.00         4\n",
      "Монстры/разбойники       0.75      1.00      0.86         6\n",
      "\n",
      "          accuracy                           0.89        19\n",
      "         macro avg       0.94      0.88      0.88        19\n",
      "      weighted avg       0.92      0.89      0.88        19\n",
      "\n"
     ]
    }
   ],
   "source": [
    "val = pd.read_csv('../data/test.csv', sep=';')\n",
    "val['Тип поручения'] = val['Тип поручения'].astype(int)\n",
    "X_val = val['Описание']\n",
    "y_val = val['Тип поручения']\n",
    "\n",
    "y_pred = pipeline.predict(X_val)\n",
    "\n",
    "# Оценка качества модели\n",
    "print(\"Accuracy:\", accuracy_score(y_val, y_pred))\n",
    "print(\"Classification Report:\")\n",
    "print(classification_report(y_val, y_pred, target_names=['Чудовище', 'Спасение', 'Поиск', 'Монстры/разбойники']))"
   ]
  },
  {
   "cell_type": "code",
   "execution_count": 6,
   "metadata": {},
   "outputs": [
    {
     "data": {
      "text/plain": [
       "['../models/classification_model.pkl']"
      ]
     },
     "execution_count": 6,
     "metadata": {},
     "output_type": "execute_result"
    }
   ],
   "source": [
    "# Сохранение пайплайна в файл\n",
    "joblib.dump(pipeline, '../models/classification_model.pkl')"
   ]
  }
 ],
 "metadata": {
  "kernelspec": {
   "display_name": "Python 3",
   "language": "python",
   "name": "python3"
  },
  "language_info": {
   "codemirror_mode": {
    "name": "ipython",
    "version": 3
   },
   "file_extension": ".py",
   "mimetype": "text/x-python",
   "name": "python",
   "nbconvert_exporter": "python",
   "pygments_lexer": "ipython3",
   "version": "3.10.11"
  }
 },
 "nbformat": 4,
 "nbformat_minor": 2
}
